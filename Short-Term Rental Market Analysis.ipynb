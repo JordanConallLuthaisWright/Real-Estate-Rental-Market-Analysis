{
 "cells": [
  {
   "cell_type": "markdown",
   "id": "40ebc50e-46fa-40b5-90d1-71c9f93ba580",
   "metadata": {},
   "source": [
    "# Real Estate Market Analysis "
   ]
  },
  {
   "cell_type": "markdown",
   "id": "6e19b0dd-26fa-4e53-8de5-351a11318d9f",
   "metadata": {},
   "source": [
    "***Company XYZ (Short-term rental real estate company) aims to analyze guest demand and host response trends in Bali to optimize listings and increase bookings. This includes examining guest search behavior (dates, duration, room type, price filters), identifying host acceptance patterns, and addressing gaps between supply and demand to enhance host participation. Additionally, the analysis will assess data needs to refine market insights and improve overall booking efficiency.***"
   ]
  },
  {
   "cell_type": "markdown",
   "id": "1122bc50-c27d-4977-9986-beafd9894ee4",
   "metadata": {},
   "source": [
    "**Company XYZ wants to understand:**\n",
    "\n",
    "- Guest search trends in Bali\n",
    "- Host acceptance patterns and key influencing factors\n",
    "- Gaps between guest demand and available listings\n",
    "- Additional insights to enhance market understanding\n",
    "\n",
    "**The objective is to analyze, visualize, and communicate Bali’s rental market dynamics.**"
   ]
  },
  {
   "cell_type": "markdown",
   "id": "0955a1fd-7e90-49f6-9920-c8655a26fb44",
   "metadata": {},
   "source": [
    "### **0. Data Exploration**"
   ]
  },
  {
   "cell_type": "code",
   "execution_count": 1,
   "id": "93adb212-7228-4111-b5bc-a0f4fb9642e1",
   "metadata": {},
   "outputs": [],
   "source": [
    "#Import libraries/dataset\n",
    "import pandas as pd\n",
    "import numpy as np\n",
    "import seaborn as sns\n",
    "import matplotlib.pyplot as plt\n",
    "\n",
    "contacts_file = (\"contacts.tsv\")\n",
    "contacts = pd.read_csv(contacts_file, sep=\"\\t\")\n",
    "\n",
    "searches_file = (\"searches.tsv\")\n",
    "searches = pd.read_csv(searches_file, sep=\"\\t\")"
   ]
  },
  {
   "cell_type": "code",
   "execution_count": 2,
   "id": "d9bbb873-0706-4b78-9e0a-df2bad6e598e",
   "metadata": {},
   "outputs": [
    {
     "name": "stdout",
     "output_type": "stream",
     "text": [
      "Contacts\n",
      "id_guest          0.000000\n",
      "id_host           0.000000\n",
      "id_listing        0.000000\n",
      "ts_contact_at     0.000000\n",
      "ts_reply_at       0.077208\n",
      "ts_accepted_at    0.536367\n",
      "ts_booking_at     0.722101\n",
      "ds_checkin        0.000000\n",
      "ds_checkout       0.000000\n",
      "n_guests          0.000000\n",
      "n_messages        0.000000\n",
      "dtype: float64 \n",
      "\n",
      "Searches\n",
      "ds                      0.000000\n",
      "id_user                 0.000000\n",
      "ds_checkin              0.331561\n",
      "ds_checkout             0.331561\n",
      "n_searches              0.000000\n",
      "n_nights                0.331561\n",
      "n_guests_min            0.000000\n",
      "n_guests_max            0.000000\n",
      "origin_country          0.000000\n",
      "filter_price_min        0.627221\n",
      "filter_price_max        0.627221\n",
      "filter_room_types       0.546940\n",
      "filter_neighborhoods    0.962336\n",
      "dtype: float64\n"
     ]
    }
   ],
   "source": [
    "#Find % of null values in datasets \n",
    "print('Contacts')\n",
    "print(contacts.isna().sum()/len(contacts), '\\n')\n",
    "print('Searches')\n",
    "print(searches.isna().sum()/len(searches))"
   ]
  },
  {
   "cell_type": "markdown",
   "id": "16f1f4f8-82e3-4982-b6ce-329c02b360be",
   "metadata": {},
   "source": [
    "***The **neighborhood** column in the searches dataset contains **96.23% null values**, which may lead to inaccurate demand assumptions. Since \"City Centre\" appears frequently among the available data, further investigation with additional data is needed to validate its significance.***"
   ]
  },
  {
   "cell_type": "markdown",
   "id": "32129a70-e077-4ad1-a7e9-1b99edfe54f0",
   "metadata": {},
   "source": [
    "### **1. \"searches\" Dataset**"
   ]
  },
  {
   "cell_type": "code",
   "execution_count": 3,
   "id": "504752b2-faa8-4b34-9fd8-935691555f7e",
   "metadata": {},
   "outputs": [],
   "source": [
    "#Drop filter_neighborhoods column\n",
    "\n",
    "searches = searches.drop(columns=['filter_neighborhoods'])"
   ]
  },
  {
   "cell_type": "code",
   "execution_count": 4,
   "id": "e43109e5-7bd6-404e-bab3-f91b2cddf172",
   "metadata": {},
   "outputs": [],
   "source": [
    "#Manipulation of searches dataset\n",
    "\n",
    "#Convert date column to datetime data type for easier analysis\n",
    "searches['ds'] = pd.to_datetime(searches['ds'])\n",
    "searches['ds_checkin'] = pd.to_datetime(searches['ds_checkin'])\n",
    "searches['ds_checkout'] = pd.to_datetime(searches['ds_checkout'])\n",
    "\n",
    "#How soon they want the room\n",
    "searches['length_preperation'] = searches['ds_checkin'] - searches['ds']"
   ]
  },
  {
   "cell_type": "code",
   "execution_count": 5,
   "id": "7d7f453c-9ec7-4a05-b4ed-8b30414d6f4b",
   "metadata": {},
   "outputs": [
    {
     "data": {
      "text/html": [
       "<div>\n",
       "<style scoped>\n",
       "    .dataframe tbody tr th:only-of-type {\n",
       "        vertical-align: middle;\n",
       "    }\n",
       "\n",
       "    .dataframe tbody tr th {\n",
       "        vertical-align: top;\n",
       "    }\n",
       "\n",
       "    .dataframe thead th {\n",
       "        text-align: right;\n",
       "    }\n",
       "</style>\n",
       "<table border=\"1\" class=\"dataframe\">\n",
       "  <thead>\n",
       "    <tr style=\"text-align: right;\">\n",
       "      <th></th>\n",
       "      <th>ds</th>\n",
       "      <th>ds_checkin</th>\n",
       "      <th>ds_checkout</th>\n",
       "      <th>n_searches</th>\n",
       "      <th>n_nights</th>\n",
       "      <th>n_guests_min</th>\n",
       "      <th>n_guests_max</th>\n",
       "      <th>filter_price_min</th>\n",
       "      <th>filter_price_max</th>\n",
       "      <th>length_preperation</th>\n",
       "    </tr>\n",
       "  </thead>\n",
       "  <tbody>\n",
       "    <tr>\n",
       "      <th>count</th>\n",
       "      <td>35737</td>\n",
       "      <td>23888</td>\n",
       "      <td>23888</td>\n",
       "      <td>35737.000000</td>\n",
       "      <td>23888.000000</td>\n",
       "      <td>35737.000000</td>\n",
       "      <td>35737.000000</td>\n",
       "      <td>13322.000000</td>\n",
       "      <td>1.332200e+04</td>\n",
       "      <td>23888</td>\n",
       "    </tr>\n",
       "    <tr>\n",
       "      <th>mean</th>\n",
       "      <td>2014-10-07 14:32:34.478551552</td>\n",
       "      <td>2014-11-27 22:42:10.609511168</td>\n",
       "      <td>2014-12-05 14:50:57.468184832</td>\n",
       "      <td>9.206565</td>\n",
       "      <td>7.672765</td>\n",
       "      <td>1.742955</td>\n",
       "      <td>2.105857</td>\n",
       "      <td>8.470200</td>\n",
       "      <td>9.019063e+07</td>\n",
       "      <td>51 days 08:11:53.730743469</td>\n",
       "    </tr>\n",
       "    <tr>\n",
       "      <th>min</th>\n",
       "      <td>2014-10-01 00:00:00</td>\n",
       "      <td>2014-10-01 00:00:00</td>\n",
       "      <td>2014-10-02 00:00:00</td>\n",
       "      <td>1.000000</td>\n",
       "      <td>0.000000</td>\n",
       "      <td>1.000000</td>\n",
       "      <td>1.000000</td>\n",
       "      <td>0.000000</td>\n",
       "      <td>9.000000e+00</td>\n",
       "      <td>-1 days +00:00:00</td>\n",
       "    </tr>\n",
       "    <tr>\n",
       "      <th>25%</th>\n",
       "      <td>2014-10-04 00:00:00</td>\n",
       "      <td>2014-10-17 00:00:00</td>\n",
       "      <td>2014-10-23 00:00:00</td>\n",
       "      <td>1.000000</td>\n",
       "      <td>2.000000</td>\n",
       "      <td>1.000000</td>\n",
       "      <td>1.000000</td>\n",
       "      <td>0.000000</td>\n",
       "      <td>8.600000e+01</td>\n",
       "      <td>10 days 00:00:00</td>\n",
       "    </tr>\n",
       "    <tr>\n",
       "      <th>50%</th>\n",
       "      <td>2014-10-08 00:00:00</td>\n",
       "      <td>2014-11-03 00:00:00</td>\n",
       "      <td>2014-11-09 00:00:00</td>\n",
       "      <td>4.000000</td>\n",
       "      <td>3.000000</td>\n",
       "      <td>1.000000</td>\n",
       "      <td>2.000000</td>\n",
       "      <td>0.000000</td>\n",
       "      <td>1.390000e+02</td>\n",
       "      <td>26 days 00:00:00</td>\n",
       "    </tr>\n",
       "    <tr>\n",
       "      <th>75%</th>\n",
       "      <td>2014-10-11 00:00:00</td>\n",
       "      <td>2014-12-13 00:00:00</td>\n",
       "      <td>2014-12-24 00:00:00</td>\n",
       "      <td>10.000000</td>\n",
       "      <td>5.000000</td>\n",
       "      <td>2.000000</td>\n",
       "      <td>2.000000</td>\n",
       "      <td>0.000000</td>\n",
       "      <td>3.010000e+02</td>\n",
       "      <td>67 days 00:00:00</td>\n",
       "    </tr>\n",
       "    <tr>\n",
       "      <th>max</th>\n",
       "      <td>2014-10-14 00:00:00</td>\n",
       "      <td>2016-06-02 00:00:00</td>\n",
       "      <td>2016-08-17 00:00:00</td>\n",
       "      <td>448.000000</td>\n",
       "      <td>399.000000</td>\n",
       "      <td>16.000000</td>\n",
       "      <td>16.000000</td>\n",
       "      <td>1250.000000</td>\n",
       "      <td>1.073742e+09</td>\n",
       "      <td>604 days 00:00:00</td>\n",
       "    </tr>\n",
       "    <tr>\n",
       "      <th>std</th>\n",
       "      <td>NaN</td>\n",
       "      <td>NaN</td>\n",
       "      <td>NaN</td>\n",
       "      <td>17.348746</td>\n",
       "      <td>21.557614</td>\n",
       "      <td>1.460440</td>\n",
       "      <td>1.817358</td>\n",
       "      <td>53.987679</td>\n",
       "      <td>2.978482e+08</td>\n",
       "      <td>65 days 18:56:19.491940518</td>\n",
       "    </tr>\n",
       "  </tbody>\n",
       "</table>\n",
       "</div>"
      ],
      "text/plain": [
       "                                  ds                     ds_checkin  \\\n",
       "count                          35737                          23888   \n",
       "mean   2014-10-07 14:32:34.478551552  2014-11-27 22:42:10.609511168   \n",
       "min              2014-10-01 00:00:00            2014-10-01 00:00:00   \n",
       "25%              2014-10-04 00:00:00            2014-10-17 00:00:00   \n",
       "50%              2014-10-08 00:00:00            2014-11-03 00:00:00   \n",
       "75%              2014-10-11 00:00:00            2014-12-13 00:00:00   \n",
       "max              2014-10-14 00:00:00            2016-06-02 00:00:00   \n",
       "std                              NaN                            NaN   \n",
       "\n",
       "                         ds_checkout    n_searches      n_nights  \\\n",
       "count                          23888  35737.000000  23888.000000   \n",
       "mean   2014-12-05 14:50:57.468184832      9.206565      7.672765   \n",
       "min              2014-10-02 00:00:00      1.000000      0.000000   \n",
       "25%              2014-10-23 00:00:00      1.000000      2.000000   \n",
       "50%              2014-11-09 00:00:00      4.000000      3.000000   \n",
       "75%              2014-12-24 00:00:00     10.000000      5.000000   \n",
       "max              2016-08-17 00:00:00    448.000000    399.000000   \n",
       "std                              NaN     17.348746     21.557614   \n",
       "\n",
       "       n_guests_min  n_guests_max  filter_price_min  filter_price_max  \\\n",
       "count  35737.000000  35737.000000      13322.000000      1.332200e+04   \n",
       "mean       1.742955      2.105857          8.470200      9.019063e+07   \n",
       "min        1.000000      1.000000          0.000000      9.000000e+00   \n",
       "25%        1.000000      1.000000          0.000000      8.600000e+01   \n",
       "50%        1.000000      2.000000          0.000000      1.390000e+02   \n",
       "75%        2.000000      2.000000          0.000000      3.010000e+02   \n",
       "max       16.000000     16.000000       1250.000000      1.073742e+09   \n",
       "std        1.460440      1.817358         53.987679      2.978482e+08   \n",
       "\n",
       "               length_preperation  \n",
       "count                       23888  \n",
       "mean   51 days 08:11:53.730743469  \n",
       "min             -1 days +00:00:00  \n",
       "25%              10 days 00:00:00  \n",
       "50%              26 days 00:00:00  \n",
       "75%              67 days 00:00:00  \n",
       "max             604 days 00:00:00  \n",
       "std    65 days 18:56:19.491940518  "
      ]
     },
     "metadata": {},
     "output_type": "display_data"
    }
   ],
   "source": [
    "#Describe searches dataset\n",
    "\n",
    "#Helps understand the dataset and its distribution of values within columns better\n",
    "display(searches.describe())"
   ]
  },
  {
   "cell_type": "markdown",
   "id": "386d972d-e654-4b44-8ef9-c900a448416a",
   "metadata": {},
   "source": [
    "The data indicates that most guests book for **one or two people**, as both the **25th and 75th percentiles** show guest counts of **1 and 2**, respectively. This suggests a preference for smaller accommodations."
   ]
  },
  {
   "cell_type": "code",
   "execution_count": 6,
   "id": "32b71347-7b63-4331-95aa-de971c767d18",
   "metadata": {},
   "outputs": [
    {
     "data": {
      "text/plain": [
       "n_searches           7.509258\n",
       "n_nights             9.942364\n",
       "n_guests_min         3.583798\n",
       "n_guests_max         3.148548\n",
       "filter_price_min    11.087745\n",
       "filter_price_max     2.999833\n",
       "dtype: float64"
      ]
     },
     "metadata": {},
     "output_type": "display_data"
    }
   ],
   "source": [
    "#Calculate skewness in searches dataset\n",
    "\n",
    "display(searches.skew(axis = 0, numeric_only = True, skipna = True))"
   ]
  },
  {
   "cell_type": "markdown",
   "id": "b5e76d91-9b14-41a8-b9d6-d0304ecb30c2",
   "metadata": {},
   "source": [
    "All numeric columns have a Fisher-Pearson coefficient value greater than 1. This results in a positive skewness. With more time, I would have used a transformation method such as log transformation to reduce the skewness"
   ]
  },
  {
   "cell_type": "markdown",
   "id": "970da6ad-2317-433e-9f44-ac08427ce440",
   "metadata": {},
   "source": [
    "### **1.1 Distributions**"
   ]
  },
  {
   "cell_type": "code",
   "execution_count": 8,
   "id": "b9af628d-b70d-4b7c-8180-c347f5e457ac",
   "metadata": {},
   "outputs": [
    {
     "data": {
      "image/png": "[encoded data removed]",
      "text/plain": [
       "<Figure size 500x500 with 1 Axes>"
      ]
     },
     "metadata": {},
     "output_type": "display_data"
    },
    {
     "data": {
      "image/png": "[encoded data removed]",
      "text/plain": [
       "<Figure size 500x500 with 1 Axes>"
      ]
     },
     "metadata": {},
     "output_type": "display_data"
    }
   ],
   "source": [
    "#Distribution plot of n_guests_min and n_guests_max\n",
    "sns.displot(searches, x = 'n_guests_min', color = 'brown')\n",
    "sns.displot(searches, x = 'n_guests_max', color = 'black')\n",
    "plt.show()"
   ]
  },
  {
   "cell_type": "markdown",
   "id": "98b43b54-007f-4821-bbdf-669a84322851",
   "metadata": {},
   "source": [
    "**Both have similar distributions with 1 being the most popular option and 2 being the next popular option.**"
   ]
  },
  {
   "cell_type": "code",
   "execution_count": 9,
   "id": "37c0b079-6a97-4941-afd0-7563f42ac833",
   "metadata": {},
   "outputs": [
    {
     "data": {
      "text/plain": [
       "[[None, None, None, None, None, None, None]]"
      ]
     },
     "execution_count": 9,
     "metadata": {},
     "output_type": "execute_result"
    },
    {
     "data": {
      "image/png": "[encoded data removed]",
      "text/plain": [
       "<Figure size 500x500 with 1 Axes>"
      ]
     },
     "metadata": {},
     "output_type": "display_data"
    }
   ],
   "source": [
    "#When were searches conducted\n",
    "\n",
    "ax = sns.displot(searches, x = 'ds', color = 'brown')\n",
    "[plt.setp(ax.get_xticklabels(), rotation=90) for ax in ax.axes.flat]"
   ]
  },
  {
   "cell_type": "markdown",
   "id": "cf076a28-b955-4971-a994-b7746ea33072",
   "metadata": {},
   "source": [
    "**Noticed all date searches were between October 1st to October 14th. No major variation in when search was conducted between these dates**"
   ]
  },
  {
   "cell_type": "code",
   "execution_count": 10,
   "id": "c1998a2a-089f-46e6-a121-e256c01a598a",
   "metadata": {},
   "outputs": [
    {
     "name": "stdout",
     "output_type": "stream",
     "text": [
      "5.311022189887232 %\n"
     ]
    }
   ],
   "source": [
    "#Percentage of dataset with a filter_price_max above 600\n",
    "\n",
    "print(len(searches[searches['filter_price_max'] > 600])/len(searches['filter_price_max'])*100, '%')"
   ]
  },
  {
   "cell_type": "code",
   "execution_count": 11,
   "id": "10128b3a-3ed1-4ed8-a5e1-4c0b4437c291",
   "metadata": {},
   "outputs": [
    {
     "data": {
      "image/png": "[encoded data removed]",
      "text/plain": [
       "<Figure size 500x500 with 1 Axes>"
      ]
     },
     "metadata": {},
     "output_type": "display_data"
    }
   ],
   "source": [
    "#Distribution of filter_price_max of searches\n",
    "\n",
    "#Removing the set upper limit\n",
    "searches_maxprice_removed = searches[searches['filter_price_max'] <= 600]\n",
    "\n",
    "#Distribution plot of filter_price_max column\n",
    "sns.displot(x=searches_maxprice_removed[\"filter_price_max\"], color = 'blue')\n",
    "plt.show()"
   ]
  },
  {
   "cell_type": "markdown",
   "id": "59e61d45-3104-406f-9538-e51fc034ec72",
   "metadata": {},
   "source": [
    "**Filter_price_max was used** instead of filter_price_min, as the **minimum price is often set to $0.**\n",
    "\n",
    "To **better visualize trends**, filter_price_max was **capped at $600**, as only **14.25%** of the dataset exceeds this value."
   ]
  },
  {
   "cell_type": "code",
   "execution_count": 13,
   "id": "0be57c32-a5ab-49c4-97e4-da05356572d3",
   "metadata": {},
   "outputs": [
    {
     "name": "stdout",
     "output_type": "stream",
     "text": [
      "9.396423874415872 % \n",
      "\n"
     ]
    },
    {
     "data": {
      "image/png": "[encoded data removed]",
      "text/plain": [
       "<Figure size 500x500 with 1 Axes>"
      ]
     },
     "metadata": {},
     "output_type": "display_data"
    }
   ],
   "source": [
    "#Distribution of length_preperation of searches\n",
    "\n",
    "#Percentage of dataset beyond 100 days\n",
    "distribution = searches[\"length_preperation\"] / np.timedelta64(1, 'D')\n",
    "print(len(distribution[distribution > 100])/len(distribution)*100, '% \\n')\n",
    "\n",
    "#Remove values beyond 100 days\n",
    "distribution = distribution[distribution < 100]\n",
    "\n",
    "#Distribution plot of length_preperation column\n",
    "sns.displot(x=distribution, color = 'green')\n",
    "plt.show()"
   ]
  },
  {
   "cell_type": "markdown",
   "id": "cf779f54-70e0-4da2-bc30-107d3e45400b",
   "metadata": {},
   "source": [
    "**100 days was chosen as the limit since only 14.06% of the dataset exists beyond that**"
   ]
  },
  {
   "cell_type": "code",
   "execution_count": 14,
   "id": "8e0a899f-deeb-423a-a9b3-f35973fdff46",
   "metadata": {},
   "outputs": [
    {
     "name": "stdout",
     "output_type": "stream",
     "text": [
      "4.737387021854101 % \n",
      "\n"
     ]
    },
    {
     "data": {
      "image/png": "[encoded data removed]",
      "text/plain": [
       "<Figure size 500x500 with 1 Axes>"
      ]
     },
     "metadata": {},
     "output_type": "display_data"
    }
   ],
   "source": [
    "#Distribution of n_nights of searches\n",
    "\n",
    "#Percentage of dataset beyond 20 nights\n",
    "print(len(searches[searches['n_nights'] > 20])/len(searches['n_nights'])*100, '% \\n')\n",
    "\n",
    "#Remove n_nights beyond 20 days\n",
    "searches_within_twenty = searches[searches['n_nights'] < 20]\n",
    "\n",
    "#Distribution plot of length_preperation column\n",
    "sns.displot(searches_within_twenty, x='n_nights', color = 'red')\n",
    "plt.show()"
   ]
  },
  {
   "cell_type": "markdown",
   "id": "0b3a1969-03b1-4cc6-aff3-5d0ca56c92a5",
   "metadata": {},
   "source": [
    "**Removing n_nights beyond 20 days since only 7.3% of the dataset exists beyond 20 days**"
   ]
  },
  {
   "cell_type": "code",
   "execution_count": 15,
   "id": "7d2fb2de-9429-4ecf-baaa-c35e9f40c658",
   "metadata": {},
   "outputs": [
    {
     "data": {
      "image/png": "[encoded data removed]",
      "text/plain": [
       "<Figure size 500x500 with 1 Axes>"
      ]
     },
     "metadata": {},
     "output_type": "display_data"
    }
   ],
   "source": [
    "#Distribution of months of ds_checkin of searches\n",
    "\n",
    "checkin_month = pd.DatetimeIndex(searches['ds_checkin']).month\n",
    "\n",
    "#Distribution plot of length_preperation column\n",
    "sns.displot(checkin_month, color = 'yellow')\n",
    "plt.show()"
   ]
  },
  {
   "cell_type": "markdown",
   "id": "80959273-ca64-40a5-86ab-0891ff9c323f",
   "metadata": {},
   "source": [
    "Only the **check-in month** was used, as most checkouts occur within **5 to 6 days**. After removing outliers, the **average stay duration** is **5.6 nights**, supporting this assumption."
   ]
  },
  {
   "cell_type": "code",
   "execution_count": 16,
   "id": "5356a1b7-3084-49d8-bc00-9ead9a4ec835",
   "metadata": {},
   "outputs": [
    {
     "data": {
      "text/plain": [
       "array([',Entire home/apt,Entire home/apt,Private room,Private room', nan,\n",
       "       ',Entire home/apt',\n",
       "       'Entire home/apt,Entire home/apt,Private room,Private room',\n",
       "       'Entire home/apt', ',Shared room,Private room',\n",
       "       'Entire home/apt,Private room,Shared room,Private room,Shared room',\n",
       "       'Private room', 'Entire home/apt,Private room', ',Private room',\n",
       "       ',Entire home/apt,Private room',\n",
       "       ',Entire home/apt,Private room,Private room',\n",
       "       'Entire home/apt,Private room,Shared room',\n",
       "       ',Entire home/apt,Entire home/apt,Private room',\n",
       "       ',Entire home/apt,Entire home/apt,Shared room,Shared room'],\n",
       "      dtype=object)"
      ]
     },
     "execution_count": 16,
     "metadata": {},
     "output_type": "execute_result"
    }
   ],
   "source": [
    "#Types of rooms searched for\n",
    "\n",
    "searches['filter_room_types'].unique()[0:15] #Display first 15 unique values"
   ]
  },
  {
   "cell_type": "markdown",
   "id": "092ef73d-6b5d-4417-a319-49517c68b23c",
   "metadata": {},
   "source": [
    "Most guests requested **entire homes/apartments** or **private rooms**, with occasional searches for **shared rooms**. Given more time, I would have cleaned this column, as many filter values are repeated within the same cell. Since the Airbnb platform categorizes listings into **Entire Place, Private Room, Hotel Room, and Shared Room**, analyzing the frequency of these four strings would provide clearer insights."
   ]
  },
  {
   "cell_type": "code",
   "execution_count": 18,
   "id": "176e982d-1b92-4b83-a249-841e1db7f0f4",
   "metadata": {},
   "outputs": [
    {
     "data": {
      "text/html": [
       "<div>\n",
       "<style scoped>\n",
       "    .dataframe tbody tr th:only-of-type {\n",
       "        vertical-align: middle;\n",
       "    }\n",
       "\n",
       "    .dataframe tbody tr th {\n",
       "        vertical-align: top;\n",
       "    }\n",
       "\n",
       "    .dataframe thead th {\n",
       "        text-align: right;\n",
       "    }\n",
       "</style>\n",
       "<table border=\"1\" class=\"dataframe\">\n",
       "  <thead>\n",
       "    <tr style=\"text-align: right;\">\n",
       "      <th></th>\n",
       "      <th>count</th>\n",
       "    </tr>\n",
       "    <tr>\n",
       "      <th>origin_country</th>\n",
       "      <th></th>\n",
       "    </tr>\n",
       "  </thead>\n",
       "  <tbody>\n",
       "    <tr>\n",
       "      <th>IE</th>\n",
       "      <td>6608</td>\n",
       "    </tr>\n",
       "    <tr>\n",
       "      <th>US</th>\n",
       "      <td>5811</td>\n",
       "    </tr>\n",
       "    <tr>\n",
       "      <th>GB</th>\n",
       "      <td>4832</td>\n",
       "    </tr>\n",
       "    <tr>\n",
       "      <th>FR</th>\n",
       "      <td>3444</td>\n",
       "    </tr>\n",
       "    <tr>\n",
       "      <th>IT</th>\n",
       "      <td>2333</td>\n",
       "    </tr>\n",
       "    <tr>\n",
       "      <th>DE</th>\n",
       "      <td>2170</td>\n",
       "    </tr>\n",
       "    <tr>\n",
       "      <th>ES</th>\n",
       "      <td>1759</td>\n",
       "    </tr>\n",
       "    <tr>\n",
       "      <th>CA</th>\n",
       "      <td>1085</td>\n",
       "    </tr>\n",
       "    <tr>\n",
       "      <th>AU</th>\n",
       "      <td>962</td>\n",
       "    </tr>\n",
       "    <tr>\n",
       "      <th>NL</th>\n",
       "      <td>843</td>\n",
       "    </tr>\n",
       "    <tr>\n",
       "      <th>BR</th>\n",
       "      <td>636</td>\n",
       "    </tr>\n",
       "    <tr>\n",
       "      <th>CH</th>\n",
       "      <td>535</td>\n",
       "    </tr>\n",
       "    <tr>\n",
       "      <th>BE</th>\n",
       "      <td>386</td>\n",
       "    </tr>\n",
       "    <tr>\n",
       "      <th>AT</th>\n",
       "      <td>320</td>\n",
       "    </tr>\n",
       "    <tr>\n",
       "      <th>RU</th>\n",
       "      <td>274</td>\n",
       "    </tr>\n",
       "  </tbody>\n",
       "</table>\n",
       "</div>"
      ],
      "text/plain": [
       "                count\n",
       "origin_country       \n",
       "IE               6608\n",
       "US               5811\n",
       "GB               4832\n",
       "FR               3444\n",
       "IT               2333\n",
       "DE               2170\n",
       "ES               1759\n",
       "CA               1085\n",
       "AU                962\n",
       "NL                843\n",
       "BR                636\n",
       "CH                535\n",
       "BE                386\n",
       "AT                320\n",
       "RU                274"
      ]
     },
     "execution_count": 18,
     "metadata": {},
     "output_type": "execute_result"
    }
   ],
   "source": [
    "#Find top 15 countries where searches originate from\n",
    "\n",
    "#Group by origin country and finding the count of each country\n",
    "search_origin = searches.groupby(\"origin_country\").agg({'origin_country' : 'count'})\n",
    "search_origin.columns = ['count']\n",
    "\n",
    "search_origin = search_origin.sort_values('count', ascending = False) #Sort count in descending order\n",
    "search_origin.nlargest(15, 'count') #Find the 15 largest values"
   ]
  },
  {
   "cell_type": "markdown",
   "id": "507b9ad2-9f65-44a0-86d3-24d90d04aed5",
   "metadata": {},
   "source": [
    "### **2. \"contracts\" Dataset**"
   ]
  },
  {
   "cell_type": "code",
   "execution_count": 19,
   "id": "080e1d96-768e-4f19-86ca-16b93cef79ab",
   "metadata": {},
   "outputs": [
    {
     "data": {
      "text/plain": [
       "id_guest                   object\n",
       "id_host                    object\n",
       "id_listing                 object\n",
       "ts_contact_at      datetime64[ns]\n",
       "ts_reply_at        datetime64[ns]\n",
       "ts_accepted_at     datetime64[ns]\n",
       "ts_booking_at      datetime64[ns]\n",
       "ds_checkin         datetime64[ns]\n",
       "ds_checkout        datetime64[ns]\n",
       "n_guests                    int64\n",
       "n_messages                  int64\n",
       "accepted                     bool\n",
       "length_stay       timedelta64[ns]\n",
       "dtype: object"
      ]
     },
     "metadata": {},
     "output_type": "display_data"
    },
    {
     "data": {
      "text/html": [
       "<div>\n",
       "<style scoped>\n",
       "    .dataframe tbody tr th:only-of-type {\n",
       "        vertical-align: middle;\n",
       "    }\n",
       "\n",
       "    .dataframe tbody tr th {\n",
       "        vertical-align: top;\n",
       "    }\n",
       "\n",
       "    .dataframe thead th {\n",
       "        text-align: right;\n",
       "    }\n",
       "</style>\n",
       "<table border=\"1\" class=\"dataframe\">\n",
       "  <thead>\n",
       "    <tr style=\"text-align: right;\">\n",
       "      <th></th>\n",
       "      <th>ts_contact_at</th>\n",
       "      <th>ts_reply_at</th>\n",
       "      <th>ts_accepted_at</th>\n",
       "      <th>ts_booking_at</th>\n",
       "      <th>ds_checkin</th>\n",
       "      <th>ds_checkout</th>\n",
       "      <th>n_guests</th>\n",
       "      <th>n_messages</th>\n",
       "      <th>length_stay</th>\n",
       "    </tr>\n",
       "  </thead>\n",
       "  <tbody>\n",
       "    <tr>\n",
       "      <th>count</th>\n",
       "      <td>7823</td>\n",
       "      <td>7219</td>\n",
       "      <td>3627</td>\n",
       "      <td>2174</td>\n",
       "      <td>7823</td>\n",
       "      <td>7823</td>\n",
       "      <td>7823.000000</td>\n",
       "      <td>7823.000000</td>\n",
       "      <td>7823</td>\n",
       "    </tr>\n",
       "    <tr>\n",
       "      <th>mean</th>\n",
       "      <td>2014-10-10 11:59:33.640802816</td>\n",
       "      <td>2014-10-10 22:42:36.511982336</td>\n",
       "      <td>2014-10-11 14:07:07.993382912</td>\n",
       "      <td>2014-10-13 07:54:43.307267840</td>\n",
       "      <td>2014-11-16 09:47:00.452511744</td>\n",
       "      <td>2014-11-22 05:12:33.317141760</td>\n",
       "      <td>2.422600</td>\n",
       "      <td>6.319954</td>\n",
       "      <td>5 days 19:25:32.864629937</td>\n",
       "    </tr>\n",
       "    <tr>\n",
       "      <th>min</th>\n",
       "      <td>2014-03-04 11:08:13</td>\n",
       "      <td>2014-04-18 09:39:06</td>\n",
       "      <td>2014-05-21 16:51:54</td>\n",
       "      <td>2014-05-21 16:51:54</td>\n",
       "      <td>2014-10-01 00:00:00</td>\n",
       "      <td>2014-10-02 00:00:00</td>\n",
       "      <td>1.000000</td>\n",
       "      <td>1.000000</td>\n",
       "      <td>1 days 00:00:00</td>\n",
       "    </tr>\n",
       "    <tr>\n",
       "      <th>25%</th>\n",
       "      <td>2014-10-03 16:28:52</td>\n",
       "      <td>2014-10-03 23:07:32</td>\n",
       "      <td>2014-10-04 13:45:13</td>\n",
       "      <td>2014-10-05 13:53:46</td>\n",
       "      <td>2014-10-15 00:00:00</td>\n",
       "      <td>2014-10-19 00:00:00</td>\n",
       "      <td>1.000000</td>\n",
       "      <td>2.000000</td>\n",
       "      <td>2 days 00:00:00</td>\n",
       "    </tr>\n",
       "    <tr>\n",
       "      <th>50%</th>\n",
       "      <td>2014-10-08 17:34:36</td>\n",
       "      <td>2014-10-09 00:16:21</td>\n",
       "      <td>2014-10-09 13:46:50</td>\n",
       "      <td>2014-10-10 11:15:13</td>\n",
       "      <td>2014-10-31 00:00:00</td>\n",
       "      <td>2014-11-06 00:00:00</td>\n",
       "      <td>2.000000</td>\n",
       "      <td>4.000000</td>\n",
       "      <td>3 days 00:00:00</td>\n",
       "    </tr>\n",
       "    <tr>\n",
       "      <th>75%</th>\n",
       "      <td>2014-10-13 21:28:51.500000</td>\n",
       "      <td>2014-10-14 10:00:04.500000</td>\n",
       "      <td>2014-10-14 16:28:27.500000</td>\n",
       "      <td>2014-10-15 13:16:17.249999872</td>\n",
       "      <td>2014-11-22 00:00:00</td>\n",
       "      <td>2014-11-30 00:00:00</td>\n",
       "      <td>3.000000</td>\n",
       "      <td>8.000000</td>\n",
       "      <td>5 days 00:00:00</td>\n",
       "    </tr>\n",
       "    <tr>\n",
       "      <th>max</th>\n",
       "      <td>2015-02-02 08:45:18</td>\n",
       "      <td>2015-02-02 23:18:25</td>\n",
       "      <td>2015-02-03 14:16:42</td>\n",
       "      <td>2015-01-21 16:16:29</td>\n",
       "      <td>2015-10-24 00:00:00</td>\n",
       "      <td>2015-12-01 00:00:00</td>\n",
       "      <td>16.000000</td>\n",
       "      <td>102.000000</td>\n",
       "      <td>334 days 00:00:00</td>\n",
       "    </tr>\n",
       "    <tr>\n",
       "      <th>std</th>\n",
       "      <td>NaN</td>\n",
       "      <td>NaN</td>\n",
       "      <td>NaN</td>\n",
       "      <td>NaN</td>\n",
       "      <td>NaN</td>\n",
       "      <td>NaN</td>\n",
       "      <td>1.617347</td>\n",
       "      <td>6.472827</td>\n",
       "      <td>14 days 23:45:24.447710564</td>\n",
       "    </tr>\n",
       "  </tbody>\n",
       "</table>\n",
       "</div>"
      ],
      "text/plain": [
       "                       ts_contact_at                    ts_reply_at  \\\n",
       "count                           7823                           7219   \n",
       "mean   2014-10-10 11:59:33.640802816  2014-10-10 22:42:36.511982336   \n",
       "min              2014-03-04 11:08:13            2014-04-18 09:39:06   \n",
       "25%              2014-10-03 16:28:52            2014-10-03 23:07:32   \n",
       "50%              2014-10-08 17:34:36            2014-10-09 00:16:21   \n",
       "75%       2014-10-13 21:28:51.500000     2014-10-14 10:00:04.500000   \n",
       "max              2015-02-02 08:45:18            2015-02-02 23:18:25   \n",
       "std                              NaN                            NaN   \n",
       "\n",
       "                      ts_accepted_at                  ts_booking_at  \\\n",
       "count                           3627                           2174   \n",
       "mean   2014-10-11 14:07:07.993382912  2014-10-13 07:54:43.307267840   \n",
       "min              2014-05-21 16:51:54            2014-05-21 16:51:54   \n",
       "25%              2014-10-04 13:45:13            2014-10-05 13:53:46   \n",
       "50%              2014-10-09 13:46:50            2014-10-10 11:15:13   \n",
       "75%       2014-10-14 16:28:27.500000  2014-10-15 13:16:17.249999872   \n",
       "max              2015-02-03 14:16:42            2015-01-21 16:16:29   \n",
       "std                              NaN                            NaN   \n",
       "\n",
       "                          ds_checkin                    ds_checkout  \\\n",
       "count                           7823                           7823   \n",
       "mean   2014-11-16 09:47:00.452511744  2014-11-22 05:12:33.317141760   \n",
       "min              2014-10-01 00:00:00            2014-10-02 00:00:00   \n",
       "25%              2014-10-15 00:00:00            2014-10-19 00:00:00   \n",
       "50%              2014-10-31 00:00:00            2014-11-06 00:00:00   \n",
       "75%              2014-11-22 00:00:00            2014-11-30 00:00:00   \n",
       "max              2015-10-24 00:00:00            2015-12-01 00:00:00   \n",
       "std                              NaN                            NaN   \n",
       "\n",
       "          n_guests   n_messages                 length_stay  \n",
       "count  7823.000000  7823.000000                        7823  \n",
       "mean      2.422600     6.319954   5 days 19:25:32.864629937  \n",
       "min       1.000000     1.000000             1 days 00:00:00  \n",
       "25%       1.000000     2.000000             2 days 00:00:00  \n",
       "50%       2.000000     4.000000             3 days 00:00:00  \n",
       "75%       3.000000     8.000000             5 days 00:00:00  \n",
       "max      16.000000   102.000000           334 days 00:00:00  \n",
       "std       1.617347     6.472827  14 days 23:45:24.447710564  "
      ]
     },
     "metadata": {},
     "output_type": "display_data"
    }
   ],
   "source": [
    "#Manipulation of contacts dataset\n",
    "\n",
    "#Convert date columns to datetime data type \n",
    "contacts['ts_contact_at'] = pd.to_datetime(contacts['ts_contact_at'])\n",
    "contacts['ts_reply_at'] = pd.to_datetime(contacts['ts_reply_at'])\n",
    "contacts['ts_accepted_at'] = pd.to_datetime(contacts['ts_accepted_at'])\n",
    "contacts['ts_booking_at'] = pd.to_datetime(contacts['ts_booking_at'])\n",
    "contacts['ds_checkin'] = pd.to_datetime(contacts['ds_checkin'])\n",
    "contacts['ds_checkout'] = pd.to_datetime(contacts['ds_checkout'])\n",
    "contacts['accepted'] = np.where(np.isnan(contacts['ts_accepted_at']), False, True)\n",
    "\n",
    "contacts['length_stay'] = contacts['ds_checkout'] - contacts['ds_checkin']\n",
    "\n",
    "#Understand dataset\n",
    "display(contacts.dtypes)\n",
    "display(contacts.describe())"
   ]
  },
  {
   "cell_type": "code",
   "execution_count": 20,
   "id": "8e16c611-50b4-49fd-8f2f-9f87c7fa68f9",
   "metadata": {},
   "outputs": [
    {
     "data": {
      "text/plain": [
       "n_guests      2.441468\n",
       "n_messages    3.696440\n",
       "accepted      0.145883\n",
       "dtype: float64"
      ]
     },
     "metadata": {},
     "output_type": "display_data"
    }
   ],
   "source": [
    "#Calculate skewness in contacts dataset\n",
    "\n",
    "display(contacts.skew(axis = 0, numeric_only = True, skipna = True))"
   ]
  },
  {
   "cell_type": "markdown",
   "id": "b48237e9-867e-4ad7-9a9a-234562874701",
   "metadata": {},
   "source": [
    "All columns have a **Fisher-Pearson coefficient** greater than **1**, except for **accepted**, likely due to its derivation from an existing column. Given more time, I would have applied a transformation method like **Box-Cox** to reduce skewness."
   ]
  },
  {
   "cell_type": "code",
   "execution_count": 21,
   "id": "98e355a8-d007-4017-96e4-87de6ba5797e",
   "metadata": {},
   "outputs": [
    {
     "data": {
      "image/png": "[encoded data removed]",
      "text/plain": [
       "<Figure size 584.875x500 with 1 Axes>"
      ]
     },
     "metadata": {},
     "output_type": "display_data"
    }
   ],
   "source": [
    "#Number of guests stayed\n",
    "\n",
    "contacts_less8 = contacts[contacts['n_guests'] < 8]\n",
    "sns.displot(contacts_less8, x = 'n_guests', hue = 'accepted', multiple=\"dodge\")\n",
    "plt.show()"
   ]
  },
  {
   "cell_type": "markdown",
   "id": "fdcb0ba0-98ee-4384-be8d-59aa123fbc9b",
   "metadata": {},
   "source": [
    "Guests were capped at **fewer than 8**, as only **1.46% (114 entries)** in the contacts dataset had **8 or more guests**. Removing these outliers improved visualization of the majority distribution.  \n",
    "\n",
    "While **2 guests** is the most common booking choice, **1 guest** is the most frequently searched. This suggests a potential shortage of viable single-guest accommodations."
   ]
  },
  {
   "cell_type": "code",
   "execution_count": 22,
   "id": "504f5132-3b6c-4eef-8380-b1a44c0eff9f",
   "metadata": {},
   "outputs": [
    {
     "data": {
      "text/plain": [
       "np.float64(0.5993934381031155)"
      ]
     },
     "execution_count": 22,
     "metadata": {},
     "output_type": "execute_result"
    }
   ],
   "source": [
    "#Conversion rate from accepting to booking\n",
    "\n",
    "contacts['ts_booking_at'].count()/contacts['ts_accepted_at'].count()"
   ]
  },
  {
   "cell_type": "code",
   "execution_count": 23,
   "id": "cb895fbd-49aa-471c-99cc-31919e3b3146",
   "metadata": {},
   "outputs": [
    {
     "data": {
      "image/png": "[encoded data removed]",
      "text/plain": [
       "<Figure size 584.875x500 with 1 Axes>"
      ]
     },
     "metadata": {},
     "output_type": "display_data"
    }
   ],
   "source": [
    "#Timeframe of when guests or accepted vs rejected\n",
    "\n",
    "contacts['month_checkin'] = contacts['ds_checkin'].dt.month #Extract month from checkin date\n",
    "contacts_checkin = contacts[contacts['month_checkin'] > 9] #Use only peak season months (Oct, Nov, Dec)\n",
    "\n",
    "#Distribution of checkin among October, November, and December and split by acceptance\n",
    "sns.displot(contacts_checkin, x='month_checkin', hue = 'accepted', multiple=\"dodge\")\n",
    "plt.xticks([10, 11, 12])\n",
    "plt.show()"
   ]
  },
  {
   "cell_type": "code",
   "execution_count": 24,
   "id": "79b5f9aa-8369-4fcc-95a5-a6d3d7fcaf27",
   "metadata": {},
   "outputs": [],
   "source": [
    "#Merge datasets for more analysis\n",
    "\n",
    "merged_datasets = contacts.merge(searches, left_on='id_guest', right_on='id_user')"
   ]
  },
  {
   "cell_type": "code",
   "execution_count": 26,
   "id": "b73c6068-ebd6-40c0-b6ec-820dcb8a0db6",
   "metadata": {},
   "outputs": [
    {
     "data": {
      "image/png": "[encoded data removed]",
      "text/plain": [
       "<Figure size 584.875x500 with 1 Axes>"
      ]
     },
     "metadata": {},
     "output_type": "display_data"
    }
   ],
   "source": [
    "#Check difference between prices searched between accepted/rejected applicants\n",
    "\n",
    "merged_pricemax_filter = merged_datasets.loc[(merged_datasets['filter_price_max'] <= 600)]\n",
    "\n",
    "sns.displot(merged_pricemax_filter, x=\"filter_price_max\", hue=\"accepted\", multiple=\"dodge\")\n",
    "plt.show()"
   ]
  },
  {
   "cell_type": "markdown",
   "id": "46a5f46c-dce4-4fbf-b451-1dfe1b8348b7",
   "metadata": {},
   "source": [
    "To improve trend visualization, **filter_price_max** was capped at **$600**, as only **14.25%** of the dataset exceeds this value.  \n",
    "\n",
    "Overall, **rejections outnumber acceptances**, with an **average acceptance rate of 43%**."
   ]
  },
  {
   "cell_type": "code",
   "execution_count": 28,
   "id": "0710290c-868d-4b07-bfae-ec810fa7bbff",
   "metadata": {},
   "outputs": [
    {
     "data": {
      "text/html": [
       "<div>\n",
       "<style scoped>\n",
       "    .dataframe tbody tr th:only-of-type {\n",
       "        vertical-align: middle;\n",
       "    }\n",
       "\n",
       "    .dataframe tbody tr th {\n",
       "        vertical-align: top;\n",
       "    }\n",
       "\n",
       "    .dataframe thead th {\n",
       "        text-align: right;\n",
       "    }\n",
       "</style>\n",
       "<table border=\"1\" class=\"dataframe\">\n",
       "  <thead>\n",
       "    <tr style=\"text-align: right;\">\n",
       "      <th></th>\n",
       "      <th>accepted</th>\n",
       "    </tr>\n",
       "    <tr>\n",
       "      <th>classification_max_price</th>\n",
       "      <th></th>\n",
       "    </tr>\n",
       "  </thead>\n",
       "  <tbody>\n",
       "    <tr>\n",
       "      <th>0-100</th>\n",
       "      <td>0.411160</td>\n",
       "    </tr>\n",
       "    <tr>\n",
       "      <th>100-200</th>\n",
       "      <td>0.430308</td>\n",
       "    </tr>\n",
       "    <tr>\n",
       "      <th>200-300</th>\n",
       "      <td>0.431149</td>\n",
       "    </tr>\n",
       "    <tr>\n",
       "      <th>300-400</th>\n",
       "      <td>0.450488</td>\n",
       "    </tr>\n",
       "    <tr>\n",
       "      <th>400-500</th>\n",
       "      <td>0.485549</td>\n",
       "    </tr>\n",
       "    <tr>\n",
       "      <th>500-600</th>\n",
       "      <td>0.422297</td>\n",
       "    </tr>\n",
       "    <tr>\n",
       "      <th>600+</th>\n",
       "      <td>0.433122</td>\n",
       "    </tr>\n",
       "  </tbody>\n",
       "</table>\n",
       "</div>"
      ],
      "text/plain": [
       "                          accepted\n",
       "classification_max_price          \n",
       "0-100                     0.411160\n",
       "100-200                   0.430308\n",
       "200-300                   0.431149\n",
       "300-400                   0.450488\n",
       "400-500                   0.485549\n",
       "500-600                   0.422297\n",
       "600+                      0.433122"
      ]
     },
     "execution_count": 28,
     "metadata": {},
     "output_type": "execute_result"
    }
   ],
   "source": [
    "#classify dataset based on filter_price_max\n",
    "\n",
    "def label_price (row):\n",
    "    if (row['filter_price_max'] >= 0) & (row['filter_price_max'] < 100):\n",
    "        return '0-100'\n",
    "    \n",
    "    elif (row['filter_price_max'] >= 100) & (row['filter_price_max'] < 200):\n",
    "        return '100-200'\n",
    "\n",
    "    elif (row['filter_price_max'] >= 200) & (row['filter_price_max'] < 300):\n",
    "        return '200-300'\n",
    "    \n",
    "    elif (row['filter_price_max'] >= 300) & (row['filter_price_max'] < 400):\n",
    "        return '300-400'\n",
    "\n",
    "    elif (row['filter_price_max'] >= 400) & (row['filter_price_max'] < 500):\n",
    "        return '400-500'\n",
    "    \n",
    "    elif (row['filter_price_max'] >= 500) & (row['filter_price_max'] < 600):\n",
    "        return '500-600'\n",
    "    \n",
    "    else:\n",
    "        return '600+'\n",
    "\n",
    "merged_datasets['classification_max_price'] = merged_datasets.apply(lambda row: label_price(row), axis=1)\n",
    "\n",
    "merged_datasets.groupby('classification_max_price').agg({'accepted': 'mean'})"
   ]
  },
  {
   "cell_type": "markdown",
   "id": "fcf72abe-cf1f-4d1a-b178-d065faeaa81e",
   "metadata": {},
   "source": [
    "**Based on this table, it can be seen that regardless of max_filter_price, people are rejected at similar rates**"
   ]
  },
  {
   "cell_type": "code",
   "execution_count": 29,
   "id": "2e6a24b5-38fc-40f6-a264-17d822c59179",
   "metadata": {},
   "outputs": [
    {
     "data": {
      "text/html": [
       "<div>\n",
       "<style scoped>\n",
       "    .dataframe tbody tr th:only-of-type {\n",
       "        vertical-align: middle;\n",
       "    }\n",
       "\n",
       "    .dataframe tbody tr th {\n",
       "        vertical-align: top;\n",
       "    }\n",
       "\n",
       "    .dataframe thead th {\n",
       "        text-align: right;\n",
       "    }\n",
       "</style>\n",
       "<table border=\"1\" class=\"dataframe\">\n",
       "  <thead>\n",
       "    <tr style=\"text-align: right;\">\n",
       "      <th></th>\n",
       "      <th>origin_country</th>\n",
       "      <th>accepted</th>\n",
       "      <th>count_accepted</th>\n",
       "      <th>count_country</th>\n",
       "      <th>acceptance_rate</th>\n",
       "    </tr>\n",
       "  </thead>\n",
       "  <tbody>\n",
       "    <tr>\n",
       "      <th>73</th>\n",
       "      <td>IN</td>\n",
       "      <td>True</td>\n",
       "      <td>138</td>\n",
       "      <td>874</td>\n",
       "      <td>0.157895</td>\n",
       "    </tr>\n",
       "    <tr>\n",
       "      <th>55</th>\n",
       "      <td>HR</td>\n",
       "      <td>True</td>\n",
       "      <td>159</td>\n",
       "      <td>530</td>\n",
       "      <td>0.300000</td>\n",
       "    </tr>\n",
       "    <tr>\n",
       "      <th>54</th>\n",
       "      <td>RU</td>\n",
       "      <td>True</td>\n",
       "      <td>83</td>\n",
       "      <td>239</td>\n",
       "      <td>0.347280</td>\n",
       "    </tr>\n",
       "    <tr>\n",
       "      <th>72</th>\n",
       "      <td>AT</td>\n",
       "      <td>True</td>\n",
       "      <td>83</td>\n",
       "      <td>239</td>\n",
       "      <td>0.347280</td>\n",
       "    </tr>\n",
       "    <tr>\n",
       "      <th>11</th>\n",
       "      <td>IT</td>\n",
       "      <td>True</td>\n",
       "      <td>1183</td>\n",
       "      <td>3137</td>\n",
       "      <td>0.377112</td>\n",
       "    </tr>\n",
       "    <tr>\n",
       "      <th>100</th>\n",
       "      <td>AE</td>\n",
       "      <td>True</td>\n",
       "      <td>59</td>\n",
       "      <td>154</td>\n",
       "      <td>0.383117</td>\n",
       "    </tr>\n",
       "    <tr>\n",
       "      <th>0</th>\n",
       "      <td>CA</td>\n",
       "      <td>True</td>\n",
       "      <td>407</td>\n",
       "      <td>993</td>\n",
       "      <td>0.409869</td>\n",
       "    </tr>\n",
       "    <tr>\n",
       "      <th>13</th>\n",
       "      <td>IE</td>\n",
       "      <td>True</td>\n",
       "      <td>1217</td>\n",
       "      <td>2951</td>\n",
       "      <td>0.412403</td>\n",
       "    </tr>\n",
       "    <tr>\n",
       "      <th>24</th>\n",
       "      <td>ES</td>\n",
       "      <td>True</td>\n",
       "      <td>794</td>\n",
       "      <td>1914</td>\n",
       "      <td>0.414838</td>\n",
       "    </tr>\n",
       "    <tr>\n",
       "      <th>49</th>\n",
       "      <td>RO</td>\n",
       "      <td>True</td>\n",
       "      <td>50</td>\n",
       "      <td>118</td>\n",
       "      <td>0.423729</td>\n",
       "    </tr>\n",
       "    <tr>\n",
       "      <th>78</th>\n",
       "      <td>CR</td>\n",
       "      <td>True</td>\n",
       "      <td>82</td>\n",
       "      <td>188</td>\n",
       "      <td>0.436170</td>\n",
       "    </tr>\n",
       "    <tr>\n",
       "      <th>6</th>\n",
       "      <td>GB</td>\n",
       "      <td>True</td>\n",
       "      <td>1610</td>\n",
       "      <td>3667</td>\n",
       "      <td>0.439051</td>\n",
       "    </tr>\n",
       "    <tr>\n",
       "      <th>25</th>\n",
       "      <td>BE</td>\n",
       "      <td>True</td>\n",
       "      <td>134</td>\n",
       "      <td>304</td>\n",
       "      <td>0.440789</td>\n",
       "    </tr>\n",
       "    <tr>\n",
       "      <th>38</th>\n",
       "      <td>BR</td>\n",
       "      <td>True</td>\n",
       "      <td>215</td>\n",
       "      <td>482</td>\n",
       "      <td>0.446058</td>\n",
       "    </tr>\n",
       "    <tr>\n",
       "      <th>27</th>\n",
       "      <td>AU</td>\n",
       "      <td>True</td>\n",
       "      <td>268</td>\n",
       "      <td>590</td>\n",
       "      <td>0.454237</td>\n",
       "    </tr>\n",
       "    <tr>\n",
       "      <th>17</th>\n",
       "      <td>FR</td>\n",
       "      <td>True</td>\n",
       "      <td>1526</td>\n",
       "      <td>3232</td>\n",
       "      <td>0.472153</td>\n",
       "    </tr>\n",
       "    <tr>\n",
       "      <th>12</th>\n",
       "      <td>CH</td>\n",
       "      <td>True</td>\n",
       "      <td>279</td>\n",
       "      <td>585</td>\n",
       "      <td>0.476923</td>\n",
       "    </tr>\n",
       "    <tr>\n",
       "      <th>7</th>\n",
       "      <td>US</td>\n",
       "      <td>True</td>\n",
       "      <td>2050</td>\n",
       "      <td>4298</td>\n",
       "      <td>0.476966</td>\n",
       "    </tr>\n",
       "    <tr>\n",
       "      <th>14</th>\n",
       "      <td>DE</td>\n",
       "      <td>True</td>\n",
       "      <td>745</td>\n",
       "      <td>1535</td>\n",
       "      <td>0.485342</td>\n",
       "    </tr>\n",
       "    <tr>\n",
       "      <th>31</th>\n",
       "      <td>NL</td>\n",
       "      <td>True</td>\n",
       "      <td>212</td>\n",
       "      <td>433</td>\n",
       "      <td>0.489607</td>\n",
       "    </tr>\n",
       "    <tr>\n",
       "      <th>46</th>\n",
       "      <td>SG</td>\n",
       "      <td>True</td>\n",
       "      <td>115</td>\n",
       "      <td>232</td>\n",
       "      <td>0.495690</td>\n",
       "    </tr>\n",
       "    <tr>\n",
       "      <th>65</th>\n",
       "      <td>PT</td>\n",
       "      <td>True</td>\n",
       "      <td>101</td>\n",
       "      <td>203</td>\n",
       "      <td>0.497537</td>\n",
       "    </tr>\n",
       "    <tr>\n",
       "      <th>1</th>\n",
       "      <td>DK</td>\n",
       "      <td>True</td>\n",
       "      <td>86</td>\n",
       "      <td>125</td>\n",
       "      <td>0.688000</td>\n",
       "    </tr>\n",
       "  </tbody>\n",
       "</table>\n",
       "</div>"
      ],
      "text/plain": [
       "    origin_country  accepted  count_accepted  count_country  acceptance_rate\n",
       "73              IN      True             138            874         0.157895\n",
       "55              HR      True             159            530         0.300000\n",
       "54              RU      True              83            239         0.347280\n",
       "72              AT      True              83            239         0.347280\n",
       "11              IT      True            1183           3137         0.377112\n",
       "100             AE      True              59            154         0.383117\n",
       "0               CA      True             407            993         0.409869\n",
       "13              IE      True            1217           2951         0.412403\n",
       "24              ES      True             794           1914         0.414838\n",
       "49              RO      True              50            118         0.423729\n",
       "78              CR      True              82            188         0.436170\n",
       "6               GB      True            1610           3667         0.439051\n",
       "25              BE      True             134            304         0.440789\n",
       "38              BR      True             215            482         0.446058\n",
       "27              AU      True             268            590         0.454237\n",
       "17              FR      True            1526           3232         0.472153\n",
       "12              CH      True             279            585         0.476923\n",
       "7               US      True            2050           4298         0.476966\n",
       "14              DE      True             745           1535         0.485342\n",
       "31              NL      True             212            433         0.489607\n",
       "46              SG      True             115            232         0.495690\n",
       "65              PT      True             101            203         0.497537\n",
       "1               DK      True              86            125         0.688000"
      ]
     },
     "execution_count": 29,
     "metadata": {},
     "output_type": "execute_result"
    }
   ],
   "source": [
    "#Find the acceptance rate by country\n",
    "\n",
    "dataset_country = merged_datasets[['origin_country', 'accepted']]\n",
    "\n",
    "#Find acceptance count by country and accepted\n",
    "accepted_count = dataset_country.groupby(['origin_country', 'accepted']).agg({'origin_country':'count'})\n",
    "accepted_count.columns = ['count_accepted']\n",
    "\n",
    "#Find acceptance count by country\n",
    "country_count = dataset_country.groupby(['origin_country']).agg({'origin_country':'count'})\n",
    "country_count.columns = ['count_country']\n",
    "\n",
    "#Merge datasets for easier manipulation \n",
    "acceptance_country = pd.merge(dataset_country, accepted_count,  how='left', on=['origin_country','accepted']) #Merge accepted count\n",
    "acceptance_country = acceptance_country.drop_duplicates()\n",
    "\n",
    "acceptance_country = pd.merge(acceptance_country, country_count, how='left', on=['origin_country']) #Merge total country count\n",
    "acceptance_country = acceptance_country.sort_values(['count_country', 'accepted'], ascending = [False, True])\n",
    "acceptance_country = acceptance_country[acceptance_country['count_country'] >= 100] #100 is used so there is a good amount of data to make assumptions\n",
    "acceptance_country = acceptance_country[acceptance_country['accepted'] == True]\n",
    "\n",
    "#Divide count_accepted column by count_country column to find acceptance rate by country\n",
    "acceptance_country['acceptance_rate'] = acceptance_country['count_accepted']/acceptance_country['count_country']\n",
    "acceptance_country.sort_values(['acceptance_rate'], ascending = True)"
   ]
  },
  {
   "cell_type": "markdown",
   "id": "7558f17b-9c2b-4394-acad-54693ee65a4e",
   "metadata": {},
   "source": [
    "India has the **lowest acceptance rate at 15%**, which is **half** that of the second lowest country. This significant gap warrants further investigation."
   ]
  },
  {
   "cell_type": "code",
   "execution_count": null,
   "id": "763a1f7e-1ef6-4a90-a305-54d4d64eb4bb",
   "metadata": {},
   "outputs": [],
   "source": []
  }
 ],
 "metadata": {
  "kernelspec": {
   "display_name": "Python 3 (ipykernel)",
   "language": "python",
   "name": "python3"
  },
  "language_info": {
   "codemirror_mode": {
    "name": "ipython",
    "version": 3
   },
   "file_extension": ".py",
   "mimetype": "text/x-python",
   "name": "python",
   "nbconvert_exporter": "python",
   "pygments_lexer": "ipython3",
   "version": "3.13.2"
  }
 },
 "nbformat": 4,
 "nbformat_minor": 5
}
